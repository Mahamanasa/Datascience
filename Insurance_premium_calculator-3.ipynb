{
 "cells": [
  {
   "cell_type": "code",
   "execution_count": 22,
   "id": "ec398e2a",
   "metadata": {},
   "outputs": [],
   "source": [
    "def insurance_premium_calc(gender,dob,smoker):\n",
    "    if gender == \"MALE\" :\n",
    "        if dob > 1990 and dob < 2000:\n",
    "            if smoker == \"YES\":\n",
    "                print(\"Your annual premium is Rs.35000\")\n",
    "            elif  smoker == \"NO\":\n",
    "                    premium = 35000 - (35000 * 10/100)\n",
    "                    print (\"Your annual premium is Rs.  \",premium)\n",
    "            else:\n",
    "                print(\"Not Elgible\")\n",
    "        elif dob >1970 and dob < 1990:\n",
    "            if smoker == 'YES':\n",
    "                print(\"Your annual premium is Rs.40000\")\n",
    "            elif smoker ==\"NO\":\n",
    "                    premium = 40000-(40000 * 5/100)\n",
    "                    print (\"Your annual premium is Rs.  \",premium)\n",
    "            else:\n",
    "                print(\"Not Eligible\")\n",
    "        else:\n",
    "            print(\"Not elgible for insurance\")\n",
    "    elif gender == \"FEMALE\":\n",
    "            if dob > 1990 and dob <2000:\n",
    "                if smoker == \"YES\":\n",
    "                    print(\"Your annual premium is Rs.30000\")\n",
    "                elif smoker =='NO':\n",
    "                    premium = 30000 - (30000 * 10/100)\n",
    "                    print(\"Your annual premium is Rs.\",premium)\n",
    "                else:\n",
    "                    print(\"Not Eligible\")\n",
    "            elif dob > 1970 and dob < 1990:\n",
    "                if smoker == \"YES\":\n",
    "                    print(\"Your annual premium is Rs.35000\")\n",
    "                elif smoker ==\"NO\":\n",
    "                        premium = 35000 - (35000 * 5/100)\n",
    "                        print(\"Your annual premium is Rs. \",premium)\n",
    "                else:\n",
    "                    print(\"Not eligible\")\n",
    "            else:\n",
    "                print(\"Not eligible for insurance\")\n",
    "    else:\n",
    "            print(\"Not eligible for Insurance\")"
   ]
  },
  {
   "cell_type": "code",
   "execution_count": 16,
   "id": "4da03405",
   "metadata": {},
   "outputs": [
    {
     "name": "stdout",
     "output_type": "stream",
     "text": [
      "Your annual premium is Rs.35000\n"
     ]
    }
   ],
   "source": [
    "insurance_premium_calc(\"MALE\",1998,\"YES\")\n"
   ]
  },
  {
   "cell_type": "code",
   "execution_count": 21,
   "id": "3daf88e9",
   "metadata": {},
   "outputs": [
    {
     "name": "stdout",
     "output_type": "stream",
     "text": [
      "Not eligible\n"
     ]
    }
   ],
   "source": [
    "insurance_premium_calc(\"FEMALE\",1978,\"kmn\")"
   ]
  },
  {
   "cell_type": "code",
   "execution_count": 12,
   "id": "caa67f7a",
   "metadata": {},
   "outputs": [
    {
     "name": "stdout",
     "output_type": "stream",
     "text": [
      "Not eligible for Insurance\n"
     ]
    }
   ],
   "source": [
    "insurance_premium_calc(\"INDS\",1998,\"LLL\")"
   ]
  },
  {
   "cell_type": "code",
   "execution_count": 23,
   "id": "4f654470",
   "metadata": {},
   "outputs": [
    {
     "name": "stdout",
     "output_type": "stream",
     "text": [
      "Not Elgible\n"
     ]
    }
   ],
   "source": [
    "insurance_premium_calc(\"MALE\",1997,\"NJ\")\n"
   ]
  },
  {
   "cell_type": "code",
   "execution_count": null,
   "id": "311d9e2f",
   "metadata": {},
   "outputs": [],
   "source": []
  }
 ],
 "metadata": {
  "kernelspec": {
   "display_name": "Python 3 (ipykernel)",
   "language": "python",
   "name": "python3"
  },
  "language_info": {
   "codemirror_mode": {
    "name": "ipython",
    "version": 3
   },
   "file_extension": ".py",
   "mimetype": "text/x-python",
   "name": "python",
   "nbconvert_exporter": "python",
   "pygments_lexer": "ipython3",
   "version": "3.11.5"
  }
 },
 "nbformat": 4,
 "nbformat_minor": 5
}
