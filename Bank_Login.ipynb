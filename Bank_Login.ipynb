{
 "cells": [
  {
   "cell_type": "code",
   "execution_count": 4,
   "id": "1fcdc7bc",
   "metadata": {},
   "outputs": [
    {
     "name": "stdout",
     "output_type": "stream",
     "text": [
      "Enter your first nameMaheshwari\n",
      "Enter your last nameThanasegaran\n",
      "Enter your cityChennai\n",
      "Enter your user idMaha\n",
      "Enter passwordmaha\n",
      "Enter your phone number9986040684\n"
     ]
    }
   ],
   "source": [
    "class Account:\n",
    "        def __inti__(self,name=input(\"Enter your first name\"),\n",
    "                    last_name=input(\"Enter your last name\"),\n",
    "                     city=input(\"Enter your city\"),\n",
    "                     user_id=input(\"Enter your user id\"),\n",
    "                     password=input(\"Enter password\"),\n",
    "                     phone=int(input(\"Enter your phone number\"))):\n",
    "                 \n",
    "            self.name = name\n",
    "            self.last_name = last_name\n",
    "            self.city = city\n",
    "            self.user_id = user_id\n",
    "            self.password = password\n",
    "            self.phone = phone\n",
    "        \n",
    "            \n",
    "        def login(self):\n",
    "            attempts=1\n",
    "            while True:\n",
    "                \n",
    "                signin = input(\"Enter your user id\")\n",
    "                password = input(\"Password\")\n",
    "                if signin == self.user_id and password == self.password:\n",
    "                    print(\"Successfully logged in\")\n",
    "                else:\n",
    "                    if attempts == 3:\n",
    "                        print(\"Max Attempt Reached, Call Customer Care\")\n",
    "                        break\n",
    "                    else:\n",
    "                        print(\"Invalid user id /password\")\n",
    "                        attempts +=1\n",
    "                        continue\n",
    "                        \n",
    "                        "
   ]
  },
  {
   "cell_type": "code",
   "execution_count": 5,
   "id": "459fe1b1",
   "metadata": {},
   "outputs": [],
   "source": [
    "bank = Account()"
   ]
  },
  {
   "cell_type": "code",
   "execution_count": null,
   "id": "0f73c5d7",
   "metadata": {
    "collapsed": true
   },
   "outputs": [],
   "source": []
  },
  {
   "cell_type": "code",
   "execution_count": 6,
   "id": "9d5e1c1e",
   "metadata": {},
   "outputs": [
    {
     "name": "stdout",
     "output_type": "stream",
     "text": [
      "Enter your user idMaha\n",
      "Passwordmaha\n"
     ]
    },
    {
     "ename": "AttributeError",
     "evalue": "'Account' object has no attribute 'user_id'",
     "output_type": "error",
     "traceback": [
      "\u001b[0;31m---------------------------------------------------------------------------\u001b[0m",
      "\u001b[0;31mAttributeError\u001b[0m                            Traceback (most recent call last)",
      "Cell \u001b[0;32mIn[6], line 1\u001b[0m\n\u001b[0;32m----> 1\u001b[0m bank\u001b[38;5;241m.\u001b[39mlogin()\n",
      "Cell \u001b[0;32mIn[4], line 23\u001b[0m, in \u001b[0;36mAccount.login\u001b[0;34m(self)\u001b[0m\n\u001b[1;32m     21\u001b[0m signin \u001b[38;5;241m=\u001b[39m \u001b[38;5;28minput\u001b[39m(\u001b[38;5;124m\"\u001b[39m\u001b[38;5;124mEnter your user id\u001b[39m\u001b[38;5;124m\"\u001b[39m)\n\u001b[1;32m     22\u001b[0m password \u001b[38;5;241m=\u001b[39m \u001b[38;5;28minput\u001b[39m(\u001b[38;5;124m\"\u001b[39m\u001b[38;5;124mPassword\u001b[39m\u001b[38;5;124m\"\u001b[39m)\n\u001b[0;32m---> 23\u001b[0m \u001b[38;5;28;01mif\u001b[39;00m signin \u001b[38;5;241m==\u001b[39m \u001b[38;5;28mself\u001b[39m\u001b[38;5;241m.\u001b[39muser_id \u001b[38;5;129;01mand\u001b[39;00m password \u001b[38;5;241m==\u001b[39m \u001b[38;5;28mself\u001b[39m\u001b[38;5;241m.\u001b[39mpassword:\n\u001b[1;32m     24\u001b[0m     \u001b[38;5;28mprint\u001b[39m(\u001b[38;5;124m\"\u001b[39m\u001b[38;5;124mSuccessfully logged in\u001b[39m\u001b[38;5;124m\"\u001b[39m)\n\u001b[1;32m     25\u001b[0m \u001b[38;5;28;01melse\u001b[39;00m:\n",
      "\u001b[0;31mAttributeError\u001b[0m: 'Account' object has no attribute 'user_id'"
     ]
    }
   ],
   "source": [
    "bank.login()"
   ]
  },
  {
   "cell_type": "code",
   "execution_count": null,
   "id": "513d5c37",
   "metadata": {},
   "outputs": [],
   "source": []
  }
 ],
 "metadata": {
  "kernelspec": {
   "display_name": "Python 3 (ipykernel)",
   "language": "python",
   "name": "python3"
  },
  "language_info": {
   "codemirror_mode": {
    "name": "ipython",
    "version": 3
   },
   "file_extension": ".py",
   "mimetype": "text/x-python",
   "name": "python",
   "nbconvert_exporter": "python",
   "pygments_lexer": "ipython3",
   "version": "3.11.5"
  }
 },
 "nbformat": 4,
 "nbformat_minor": 5
}
