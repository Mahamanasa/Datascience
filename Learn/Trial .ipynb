{
 "cells": [
  {
   "cell_type": "code",
   "execution_count": 3,
   "id": "812d2ade",
   "metadata": {},
   "outputs": [
    {
     "name": "stdout",
     "output_type": "stream",
     "text": [
      "Maheshwari\n",
      "World\n"
     ]
    }
   ],
   "source": [
    "print(\"Maheshwari\")\n",
    "print(\"World\")"
   ]
  },
  {
   "cell_type": "code",
   "execution_count": 2,
   "id": "953402a8",
   "metadata": {},
   "outputs": [
    {
     "data": {
      "text/plain": [
       "21"
      ]
     },
     "execution_count": 2,
     "metadata": {},
     "output_type": "execute_result"
    }
   ],
   "source": [
    "11+10"
   ]
  },
  {
   "cell_type": "markdown",
   "id": "165322d9",
   "metadata": {},
   "source": [
    "Command+enter = run and execute\n",
    "esc+a= insert above the cell\n",
    "esc+b= insert below the cell\n",
    "esc+dd= delete the selected cell"
   ]
  }
 ],
 "metadata": {
  "kernelspec": {
   "display_name": "Python 3 (ipykernel)",
   "language": "python",
   "name": "python3"
  },
  "language_info": {
   "codemirror_mode": {
    "name": "ipython",
    "version": 3
   },
   "file_extension": ".py",
   "mimetype": "text/x-python",
   "name": "python",
   "nbconvert_exporter": "python",
   "pygments_lexer": "ipython3",
   "version": "3.11.5"
  }
 },
 "nbformat": 4,
 "nbformat_minor": 5
}
