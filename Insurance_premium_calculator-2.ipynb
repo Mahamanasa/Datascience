{
 "cells": [
  {
   "cell_type": "code",
   "execution_count": 1,
   "id": "ede51eea",
   "metadata": {},
   "outputs": [],
   "source": [
    "def insurance_premium_calc(gender,dob,smoker):\n",
    "    if gender == \"MALE\" :\n",
    "        if dob > 1990 and dob < 2000:\n",
    "            if smoker == \"YES\":\n",
    "                print(\"Your annual premium is Rs.35000\")\n",
    "            else:\n",
    "                    smoker == \"NO\"\n",
    "                    premium = 35000 - (35000 * 10/100)\n",
    "                    print (\"Your annual premium is Rs.  \",premium)\n",
    "        elif dob >1970 and dob < 1990:\n",
    "            if smoker == 'YES':\n",
    "                print(\"Your annual premium is Rs.40000\")\n",
    "            else:\n",
    "                    smoker ==\"NO\"\n",
    "                    premium = 40000-(40000 * 5/100)\n",
    "                    print (\"Your annual premium is Rs.  \",premium)\n",
    "        else:\n",
    "            print(\"Not elgible for insurance\")\n",
    "    elif gender == \"FEMALE\":\n",
    "            if dob > 1990 and dob <2000:\n",
    "                if smoker == \"YES\":\n",
    "                    print(\"Your annual premium is Rs.30000\")\n",
    "                else:\n",
    "                    smoker =='NO'\n",
    "                    premium = 30000 - (30000 * 10/100)\n",
    "                    print(\"Your annual premium is Rs.\",premium)\n",
    "            elif dob > 1970 and dob < 1990:\n",
    "                if smoker == \"YES\":\n",
    "                    print(\"Your annual premium is Rs.35000\")\n",
    "                else:\n",
    "                        smoker ==\"NO\"\n",
    "                        premium = 35000 - (35000 * 5/100)\n",
    "                        print(\"Your annual premium is Rs. \",premium)\n",
    "            else:\n",
    "                print(\"Not eligible for insurance\")\n",
    "    else:\n",
    "            print(\"Not eligible for Insurance\")"
   ]
  },
  {
   "cell_type": "code",
   "execution_count": 2,
   "id": "cc41b4a5",
   "metadata": {},
   "outputs": [
    {
     "name": "stdout",
     "output_type": "stream",
     "text": [
      "Your annual premium is Rs.35000\n"
     ]
    }
   ],
   "source": [
    "insurance_premium_calc(\"MALE\",1998,\"YES\")\n"
   ]
  },
  {
   "cell_type": "code",
   "execution_count": 3,
   "id": "8670c65e",
   "metadata": {},
   "outputs": [
    {
     "name": "stdout",
     "output_type": "stream",
     "text": [
      "Your annual premium is Rs. 27000.0\n"
     ]
    }
   ],
   "source": [
    "insurance_premium_calc(\"FEMALE\",1998,\"NO\")"
   ]
  },
  {
   "cell_type": "code",
   "execution_count": 8,
   "id": "541e36f6",
   "metadata": {},
   "outputs": [
    {
     "name": "stdout",
     "output_type": "stream",
     "text": [
      "Your annual premium is Rs.35000\n"
     ]
    }
   ],
   "source": [
    "insurance_premium_calc(\"MALE\",1998,\"YES\")"
   ]
  },
  {
   "cell_type": "code",
   "execution_count": null,
   "id": "e2ecba86",
   "metadata": {},
   "outputs": [],
   "source": []
  }
 ],
 "metadata": {
  "kernelspec": {
   "display_name": "Python 3 (ipykernel)",
   "language": "python",
   "name": "python3"
  },
  "language_info": {
   "codemirror_mode": {
    "name": "ipython",
    "version": 3
   },
   "file_extension": ".py",
   "mimetype": "text/x-python",
   "name": "python",
   "nbconvert_exporter": "python",
   "pygments_lexer": "ipython3",
   "version": "3.11.5"
  }
 },
 "nbformat": 4,
 "nbformat_minor": 5
}
