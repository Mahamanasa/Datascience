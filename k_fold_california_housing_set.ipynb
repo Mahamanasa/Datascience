{
 "cells": [
  {
   "cell_type": "code",
   "execution_count": 2,
   "id": "f134773d",
   "metadata": {},
   "outputs": [
    {
     "name": "stdout",
     "output_type": "stream",
     "text": [
      "(20640, 8) (20640,)\n",
      "Fold 1: RMSE = 0.7456\n",
      "Fold 2: RMSE = 0.7264\n",
      "Fold 3: RMSE = 0.7136\n",
      "Fold 4: RMSE = 0.7105\n",
      "Fold 5: RMSE = 0.7451\n",
      "\n",
      "Cross-Validation Results:\n",
      "Mean RMSE: 0.7283\n",
      "Standard Deviation of RMSE: 0.0149\n"
     ]
    },
    {
     "data": {
      "text/plain": [
       "(0.7282509142479741, 0.014935522116012871)"
      ]
     },
     "execution_count": 2,
     "metadata": {},
     "output_type": "execute_result"
    }
   ],
   "source": [
    "from sklearn.model_selection import KFold\n",
    "from sklearn.linear_model import LinearRegression\n",
    "from sklearn.metrics import mean_squared_error\n",
    "import numpy as np\n",
    "import pandas as pd\n",
    "\n",
    "def k_fold_cross_validation(data, target, k=5):\n",
    "    \"\"\"\n",
    "    Perform k-fold cross-validation on a dataset with linear regression.\n",
    "\n",
    "    :param data: Features of the dataset (numpy array or pandas DataFrame).\n",
    "    :param target: Target values (numpy array or pandas Series).\n",
    "    :param k: Number of folds for cross-validation (default is 5).\n",
    "    :return: Mean and standard deviation of RMSE scores across folds.\n",
    "    \"\"\"\n",
    "    # Initialize KFold\n",
    "    kf = KFold(n_splits=k, shuffle=True, random_state=42)\n",
    "\n",
    "    # Initialize an empty list to store RMSE for each fold\n",
    "    rmse_scores = []\n",
    "\n",
    "    for fold, (train_index, test_index) in enumerate(kf.split(data)):\n",
    "        # Split data into training and validation sets\n",
    "        X_train, X_test = data[train_index], data[test_index]\n",
    "        y_train, y_test = target[train_index], target[test_index]\n",
    "\n",
    "        # Initialize and train the model\n",
    "        model = LinearRegression()\n",
    "        model.fit(X_train, y_train)\n",
    "\n",
    "        # Make predictions on the validation set\n",
    "        predictions = model.predict(X_test)\n",
    "\n",
    "        # Calculate RMSE for this fold\n",
    "        rmse = np.sqrt(mean_squared_error(y_test, predictions))\n",
    "        rmse_scores.append(rmse)\n",
    "\n",
    "        print(f\"Fold {fold + 1}: RMSE = {rmse:.4f}\")\n",
    "\n",
    "    # Calculate mean and standard deviation of RMSE\n",
    "    mean_rmse = np.mean(rmse_scores)\n",
    "    std_rmse = np.std(rmse_scores)\n",
    "\n",
    "    print(\"\\nCross-Validation Results:\")\n",
    "    print(f\"Mean RMSE: {mean_rmse:.4f}\")\n",
    "    print(f\"Standard Deviation of RMSE: {std_rmse:.4f}\")\n",
    "\n",
    "    return mean_rmse, std_rmse\n",
    "\n",
    "# Example: Using the california Housing Dataset\n",
    "from sklearn.datasets import fetch_california_housing\n",
    "housing = fetch_california_housing()\n",
    "print(housing.data.shape, housing.target.shape)\n",
    "\n",
    "\n",
    "# Load dataset\n",
    "\n",
    "X = housing.data\n",
    "y = housing.target\n",
    "\n",
    "# Perform k-fold cross-validation\n",
    "k_fold_cross_validation(X, y, k=5)\n"
   ]
  },
  {
   "cell_type": "code",
   "execution_count": null,
   "id": "14d92187",
   "metadata": {},
   "outputs": [],
   "source": []
  }
 ],
 "metadata": {
  "kernelspec": {
   "display_name": "Python 3 (ipykernel)",
   "language": "python",
   "name": "python3"
  },
  "language_info": {
   "codemirror_mode": {
    "name": "ipython",
    "version": 3
   },
   "file_extension": ".py",
   "mimetype": "text/x-python",
   "name": "python",
   "nbconvert_exporter": "python",
   "pygments_lexer": "ipython3",
   "version": "3.11.5"
  }
 },
 "nbformat": 4,
 "nbformat_minor": 5
}
