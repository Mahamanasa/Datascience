{
 "cells": [
  {
   "cell_type": "code",
   "execution_count": null,
   "id": "c0031b6e",
   "metadata": {},
   "outputs": [],
   "source": [
    "def insurance_premium_calc(gender,dob,smoker):\n",
    "    if gender == \"MALE\" :\n",
    "        if dob > 1990 and dob < 2000:\n",
    "            if smoker == \"YES\":\n",
    "                print(\"Your annual premium is Rs.35000\")\n",
    "            else:\n",
    "                    smoker == \"NO\"\n",
    "                    premium = 35000 - (35000 * 10/100)\n",
    "                    print (\"Your annual premium is Rs.  \",premium)\n",
    "        elif dob >1970 and dob < 1990:\n",
    "            if smoker == 'YES':\n",
    "                print(\"Your annual premium is Rs.40000\")\n",
    "            else:\n",
    "                    smoker ==\"NO\"\n",
    "                    premium = 40000-(40000 * 5/100)\n",
    "                    print (\"Your annual premium is Rs.  \",premium)\n",
    "        else:\n",
    "            print(\"Not elgible for insurance\")\n",
    "    elif gender == \"FEMALE\":\n",
    "            if dob > 1990 and dob <2000:\n",
    "                if smoker == \"YES\":\n",
    "                    print(\"Your annual premium is Rs.30000\")\n",
    "                else:\n",
    "                    smoker =='NO'\n",
    "                    premium = 30000 - (30000 * 10/100)\n",
    "                    print(\"Your annual premium is Rs.\",premium)\n",
    "            elif dob > 1970 and dob < 1990:\n",
    "                if smoker == \"YES\":\n",
    "                    print(\"Your annual premium is Rs.35000\")\n",
    "                else:\n",
    "                        smoker ==\"NO\"\n",
    "                        premium = 35000 - (35000 * 5/100)\n",
    "                        print(\"Your annual premium is Rs. \",premium)\n",
    "            else:\n",
    "                print(\"Not eligible for insurance\")\n",
    "    else:\n",
    "            print(\"Not eligible for Insurance\")"
   ]
  }
 ],
 "metadata": {
  "kernelspec": {
   "display_name": "Python 3 (ipykernel)",
   "language": "python",
   "name": "python3"
  },
  "language_info": {
   "codemirror_mode": {
    "name": "ipython",
    "version": 3
   },
   "file_extension": ".py",
   "mimetype": "text/x-python",
   "name": "python",
   "nbconvert_exporter": "python",
   "pygments_lexer": "ipython3",
   "version": "3.11.5"
  }
 },
 "nbformat": 4,
 "nbformat_minor": 5
}
