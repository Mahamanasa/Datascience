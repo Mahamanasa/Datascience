{
 "cells": [
  {
   "cell_type": "code",
   "execution_count": 1,
   "id": "3598e6c2",
   "metadata": {},
   "outputs": [
    {
     "name": "stdout",
     "output_type": "stream",
     "text": [
      "Enter the value of k: 4\n",
      "Accuracy: 100.00%\n",
      "Test Point: [ 0.35451684 -0.58505976  0.55777524  0.02224751], Predicted Label: 1, True Label: 1\n"
     ]
    }
   ],
   "source": [
    "import numpy as np\n",
    "from sklearn.datasets import load_iris\n",
    "from sklearn.model_selection import train_test_split\n",
    "from sklearn.preprocessing import StandardScaler\n",
    "from collections import Counter\n",
    "\n",
    "class KNN:\n",
    "    def __init__(self, k=3):\n",
    "        \"\"\"\n",
    "        Initialize the KNN model.\n",
    "        :param k: Number of neighbors to consider.\n",
    "        \"\"\"\n",
    "        self.k = k\n",
    "\n",
    "    def fit(self, X, y):\n",
    "        \"\"\"\n",
    "        Fit the KNN model by storing the training data.\n",
    "        :param X: Training data (n_samples, n_features).\n",
    "        :param y: Training labels (n_samples).\n",
    "        \"\"\"\n",
    "        self.X_train = X\n",
    "        self.y_train = y\n",
    "\n",
    "    def predict(self, X):\n",
    "        \"\"\"\n",
    "        Predict labels for the test data.\n",
    "        :param X: Test data (n_samples, n_features).\n",
    "        :return: Predicted labels (n_samples).\n",
    "        \"\"\"\n",
    "        return [self._predict_single_point(x) for x in X]\n",
    "\n",
    "    def _predict_single_point(self, x):\n",
    "        \"\"\"\n",
    "        Predict the label for a single data point.\n",
    "        :param x: A single data point (n_features).\n",
    "        :return: Predicted label.\n",
    "        \"\"\"\n",
    "        # Compute Euclidean distances\n",
    "        distances = [np.sqrt(np.sum((x - x_train) ** 2)) for x_train in self.X_train]\n",
    "        # Get indices of the k nearest neighbors\n",
    "        k_indices = np.argsort(distances)[:self.k]\n",
    "        # Get the labels of the k nearest neighbors\n",
    "        k_neighbor_labels = [self.y_train[i] for i in k_indices]\n",
    "        # Return the most common label\n",
    "        most_common = Counter(k_neighbor_labels).most_common(1)\n",
    "        return most_common[0][0]\n",
    "\n",
    "# Load the Iris dataset\n",
    "iris = load_iris()\n",
    "X, y = iris.data, iris.target\n",
    "\n",
    "# Split the dataset into training and testing sets\n",
    "X_train, X_test, y_train, y_test = train_test_split(X, y, test_size=0.2, random_state=42)\n",
    "\n",
    "# Standardize the features\n",
    "scaler = StandardScaler()\n",
    "X_train = scaler.fit_transform(X_train)\n",
    "X_test = scaler.transform(X_test)\n",
    "\n",
    "# Ask the user for the value of k\n",
    "k = int(input(\"Enter the value of k: \"))\n",
    "\n",
    "# Initialize and train the KNN model\n",
    "knn = KNN(k=k)\n",
    "knn.fit(X_train, y_train)\n",
    "\n",
    "# Predict on the test data\n",
    "y_pred = knn.predict(X_test)\n",
    "\n",
    "# Calculate accuracy\n",
    "accuracy = np.mean(y_pred == y_test) * 100\n",
    "print(f\"Accuracy: {accuracy:.2f}%\")\n",
    "\n",
    "# Test with a single point (optional)\n",
    "test_point = X_test[0]\n",
    "predicted_label = knn._predict_single_point(test_point)\n",
    "print(f\"Test Point: {test_point}, Predicted Label: {predicted_label}, True Label: {y_test[0]}\")\n"
   ]
  },
  {
   "cell_type": "code",
   "execution_count": null,
   "id": "219cc30d",
   "metadata": {},
   "outputs": [],
   "source": []
  }
 ],
 "metadata": {
  "kernelspec": {
   "display_name": "Python 3 (ipykernel)",
   "language": "python",
   "name": "python3"
  },
  "language_info": {
   "codemirror_mode": {
    "name": "ipython",
    "version": 3
   },
   "file_extension": ".py",
   "mimetype": "text/x-python",
   "name": "python",
   "nbconvert_exporter": "python",
   "pygments_lexer": "ipython3",
   "version": "3.11.5"
  }
 },
 "nbformat": 4,
 "nbformat_minor": 5
}
